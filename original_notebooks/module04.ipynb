{
 "cells": [
  {
   "cell_type": "code",
   "execution_count": 60,
   "metadata": {},
   "outputs": [],
   "source": [
    "import pandas as pd\n",
    "import numpy as np"
   ]
  },
  {
   "cell_type": "code",
   "execution_count": 61,
   "metadata": {},
   "outputs": [],
   "source": [
    "import edhec_risk_kit_204 as erk"
   ]
  },
  {
   "cell_type": "markdown",
   "metadata": {},
   "source": [
    "# Load data"
   ]
  },
  {
   "cell_type": "code",
   "execution_count": 62,
   "metadata": {},
   "outputs": [],
   "source": [
    "# industries_to_analysis = ['Hlth', 'Fin', 'Whlsl', 'Rtail', 'Food',]"
   ]
  },
  {
   "cell_type": "code",
   "execution_count": 63,
   "metadata": {},
   "outputs": [],
   "source": [
    "ind49_rets = erk.get_ind_returns(weighting=\"vw\", n_inds=49)[\"2014\":\"2018\"]\n",
    "# ind49_rets = ind49_rets[industries_to_analysis]\n",
    "cov = ind49_rets.cov()"
   ]
  },
  {
   "cell_type": "code",
   "execution_count": 64,
   "metadata": {},
   "outputs": [],
   "source": [
    "ind_mcap = erk.get_ind_market_caps(49, weights=True)[\"2014\":\"2018\"]\n",
    "# ind_mcap = ind_mcap[industries_to_analysis]"
   ]
  },
  {
   "cell_type": "code",
   "execution_count": 65,
   "metadata": {},
   "outputs": [
    {
     "data": {
      "text/plain": [
       "FabPr    0.000271\n",
       "Gold     0.000686\n",
       "Ships    0.000860\n",
       "Coal     0.000893\n",
       "Txtls    0.000970\n",
       "Name: 2014-01, dtype: float64"
      ]
     },
     "execution_count": 65,
     "metadata": {},
     "output_type": "execute_result"
    }
   ],
   "source": [
    "cap_weigth = (ind_mcap.iloc[0] / ind_mcap.iloc[0].sum())\n",
    "cap_weigth.sort_values().head()"
   ]
  },
  {
   "cell_type": "code",
   "execution_count": 66,
   "metadata": {},
   "outputs": [],
   "source": [
    "def risk_contribution(w,cov):\n",
    "    \"\"\"\n",
    "    Compute the contributions to risk of the constituents of a portfolio, given a set of portfolio weights and a covariance matrix\n",
    "    \"\"\"\n",
    "    total_portfolio_var = erk.portfolio_vol(w,cov)**2\n",
    "    # Marginal contribution of each constituent\n",
    "    marginal_contrib = cov@w\n",
    "    risk_contrib = np.multiply(marginal_contrib,w.T)/total_portfolio_var\n",
    "    return risk_contrib"
   ]
  },
  {
   "cell_type": "code",
   "execution_count": 67,
   "metadata": {},
   "outputs": [],
   "source": [
    "from scipy.optimize import minimize\n",
    "\n",
    "def target_risk_contributions(target_risk, cov):\n",
    "    \"\"\"\n",
    "    Returns the weights of the portfolio that gives you the weights such\n",
    "    that the contributions to portfolio risk are as close as possible to\n",
    "    the target_risk, given the covariance matrix\n",
    "    \"\"\"\n",
    "    n = cov.shape[0]\n",
    "    init_guess = np.repeat(1/n, n)\n",
    "    bounds = ((0.0, 1.0),) * n # an N-tuple of 2-tuples!\n",
    "    # construct the constraints\n",
    "    weights_sum_to_1 = {'type': 'eq',\n",
    "                        'fun': lambda weights: np.sum(weights) - 1\n",
    "    }\n",
    "    def msd_risk(weights, target_risk, cov):\n",
    "        \"\"\"\n",
    "        Returns the Mean Squared Difference in risk contributions\n",
    "        between weights and target_risk\n",
    "        \"\"\"\n",
    "        w_contribs = risk_contribution(weights, cov)\n",
    "        return ((w_contribs-target_risk)**2).sum()\n",
    "    \n",
    "    weights = minimize(msd_risk, init_guess,\n",
    "                       args=(target_risk, cov), method='SLSQP',\n",
    "                       options={'disp': False},\n",
    "                       constraints=(weights_sum_to_1,),\n",
    "                       bounds=bounds)\n",
    "    return weights.x\n",
    "\n",
    "def equal_risk_contributions(cov):\n",
    "    \"\"\"\n",
    "    Returns the weights of the portfolio that equalizes the contributions\n",
    "    of the constituents based on the given covariance matrix\n",
    "    \"\"\"\n",
    "    n = cov.shape[0]\n",
    "    return target_risk_contributions(target_risk=np.repeat(1/n,n), cov=cov)\n"
   ]
  },
  {
   "attachments": {},
   "cell_type": "markdown",
   "metadata": {},
   "source": [
    "# Assignment"
   ]
  },
  {
   "cell_type": "code",
   "execution_count": 68,
   "metadata": {},
   "outputs": [
    {
     "data": {
      "text/html": [
       "<style type=\"text/css\">\n",
       "</style>\n",
       "<table id=\"T_2a846\">\n",
       "  <thead>\n",
       "    <tr>\n",
       "      <th class=\"blank level0\" >&nbsp;</th>\n",
       "      <th id=\"T_2a846_level0_col0\" class=\"col_heading level0 col0\" >Cap weighted</th>\n",
       "    </tr>\n",
       "  </thead>\n",
       "  <tbody>\n",
       "    <tr>\n",
       "      <th id=\"T_2a846_level0_row0\" class=\"row_heading level0 row0\" >Gold</th>\n",
       "      <td id=\"T_2a846_row0_col0\" class=\"data row0 col0\" >0.01%</td>\n",
       "    </tr>\n",
       "    <tr>\n",
       "      <th id=\"T_2a846_level0_row1\" class=\"row_heading level0 row1\" >FabPr</th>\n",
       "      <td id=\"T_2a846_row1_col0\" class=\"data row1 col0\" >0.03%</td>\n",
       "    </tr>\n",
       "    <tr>\n",
       "      <th id=\"T_2a846_level0_row2\" class=\"row_heading level0 row2\" >Coal</th>\n",
       "      <td id=\"T_2a846_row2_col0\" class=\"data row2 col0\" >0.09%</td>\n",
       "    </tr>\n",
       "    <tr>\n",
       "      <th id=\"T_2a846_level0_row3\" class=\"row_heading level0 row3\" >Oil</th>\n",
       "      <td id=\"T_2a846_row3_col0\" class=\"data row3 col0\" >8.89%</td>\n",
       "    </tr>\n",
       "    <tr>\n",
       "      <th id=\"T_2a846_level0_row4\" class=\"row_heading level0 row4\" >Softw</th>\n",
       "      <td id=\"T_2a846_row4_col0\" class=\"data row4 col0\" >9.37%</td>\n",
       "    </tr>\n",
       "    <tr>\n",
       "      <th id=\"T_2a846_level0_row5\" class=\"row_heading level0 row5\" >Banks</th>\n",
       "      <td id=\"T_2a846_row5_col0\" class=\"data row5 col0\" >10.41%</td>\n",
       "    </tr>\n",
       "  </tbody>\n",
       "</table>\n"
      ],
      "text/plain": [
       "<pandas.io.formats.style.Styler at 0x28390feb0>"
      ]
     },
     "execution_count": 68,
     "metadata": {},
     "output_type": "execute_result"
    }
   ],
   "source": [
    "risk_contribution(cap_weigth, cov).sort_values().to_frame(\"Cap weighted\").iloc[[0,1,2,-3,-2,-1]].style.format(\"{:.2%}\")"
   ]
  },
  {
   "cell_type": "code",
   "execution_count": 69,
   "metadata": {},
   "outputs": [
    {
     "data": {
      "text/plain": [
       "'10.40%'"
      ]
     },
     "execution_count": 69,
     "metadata": {},
     "output_type": "execute_result"
    }
   ],
   "source": [
    "f\"{np.ptp(risk_contribution(cap_weigth, cov)):.2%}\""
   ]
  },
  {
   "cell_type": "code",
   "execution_count": 70,
   "metadata": {},
   "outputs": [
    {
     "data": {
      "text/html": [
       "<style type=\"text/css\">\n",
       "</style>\n",
       "<table id=\"T_fd37c\">\n",
       "  <thead>\n",
       "    <tr>\n",
       "      <th class=\"blank level0\" >&nbsp;</th>\n",
       "      <th id=\"T_fd37c_level0_col0\" class=\"col_heading level0 col0\" >Equal weighted</th>\n",
       "    </tr>\n",
       "  </thead>\n",
       "  <tbody>\n",
       "    <tr>\n",
       "      <th id=\"T_fd37c_level0_row0\" class=\"row_heading level0 row0\" >Util</th>\n",
       "      <td id=\"T_fd37c_row0_col0\" class=\"data row0 col0\" >0.59%</td>\n",
       "    </tr>\n",
       "    <tr>\n",
       "      <th id=\"T_fd37c_level0_row1\" class=\"row_heading level0 row1\" >Smoke</th>\n",
       "      <td id=\"T_fd37c_row1_col0\" class=\"data row1 col0\" >0.94%</td>\n",
       "    </tr>\n",
       "    <tr>\n",
       "      <th id=\"T_fd37c_level0_row2\" class=\"row_heading level0 row2\" >Hshld</th>\n",
       "      <td id=\"T_fd37c_row2_col0\" class=\"data row2 col0\" >1.05%</td>\n",
       "    </tr>\n",
       "    <tr>\n",
       "      <th id=\"T_fd37c_level0_row3\" class=\"row_heading level0 row3\" >Coal</th>\n",
       "      <td id=\"T_fd37c_row3_col0\" class=\"data row3 col0\" >2.90%</td>\n",
       "    </tr>\n",
       "    <tr>\n",
       "      <th id=\"T_fd37c_level0_row4\" class=\"row_heading level0 row4\" >Ships</th>\n",
       "      <td id=\"T_fd37c_row4_col0\" class=\"data row4 col0\" >3.00%</td>\n",
       "    </tr>\n",
       "    <tr>\n",
       "      <th id=\"T_fd37c_level0_row5\" class=\"row_heading level0 row5\" >Steel</th>\n",
       "      <td id=\"T_fd37c_row5_col0\" class=\"data row5 col0\" >3.09%</td>\n",
       "    </tr>\n",
       "  </tbody>\n",
       "</table>\n"
      ],
      "text/plain": [
       "<pandas.io.formats.style.Styler at 0x2839acaf0>"
      ]
     },
     "execution_count": 70,
     "metadata": {},
     "output_type": "execute_result"
    }
   ],
   "source": [
    "risk_contribution(erk.weight_ew(ind49_rets), cov).sort_values().to_frame(\"Equal weighted\").iloc[[0,1,2,-3,-2,-1]].style.format(\"{:.2%}\")"
   ]
  },
  {
   "cell_type": "code",
   "execution_count": 71,
   "metadata": {},
   "outputs": [
    {
     "data": {
      "text/plain": [
       "'2.50%'"
      ]
     },
     "execution_count": 71,
     "metadata": {},
     "output_type": "execute_result"
    }
   ],
   "source": [
    "f\"{np.ptp(risk_contribution(erk.weight_ew(ind49_rets), cov)):.2%}\""
   ]
  },
  {
   "cell_type": "code",
   "execution_count": 72,
   "metadata": {},
   "outputs": [
    {
     "data": {
      "text/html": [
       "<style type=\"text/css\">\n",
       "</style>\n",
       "<table id=\"T_a81ab\">\n",
       "  <thead>\n",
       "    <tr>\n",
       "      <th class=\"blank level0\" >&nbsp;</th>\n",
       "      <th id=\"T_a81ab_level0_col0\" class=\"col_heading level0 col0\" >Equal Risk - Weights</th>\n",
       "    </tr>\n",
       "  </thead>\n",
       "  <tbody>\n",
       "    <tr>\n",
       "      <th id=\"T_a81ab_level0_row0\" class=\"row_heading level0 row0\" >Steel</th>\n",
       "      <td id=\"T_a81ab_row0_col0\" class=\"data row0 col0\" >1.28%</td>\n",
       "    </tr>\n",
       "    <tr>\n",
       "      <th id=\"T_a81ab_level0_row1\" class=\"row_heading level0 row1\" >Ships</th>\n",
       "      <td id=\"T_a81ab_row1_col0\" class=\"data row1 col0\" >1.30%</td>\n",
       "    </tr>\n",
       "    <tr>\n",
       "      <th id=\"T_a81ab_level0_row2\" class=\"row_heading level0 row2\" >BldMt</th>\n",
       "      <td id=\"T_a81ab_row2_col0\" class=\"data row2 col0\" >1.38%</td>\n",
       "    </tr>\n",
       "    <tr>\n",
       "      <th id=\"T_a81ab_level0_row3\" class=\"row_heading level0 row3\" >Smoke</th>\n",
       "      <td id=\"T_a81ab_row3_col0\" class=\"data row3 col0\" >3.26%</td>\n",
       "    </tr>\n",
       "    <tr>\n",
       "      <th id=\"T_a81ab_level0_row4\" class=\"row_heading level0 row4\" >Hshld</th>\n",
       "      <td id=\"T_a81ab_row4_col0\" class=\"data row4 col0\" >3.32%</td>\n",
       "    </tr>\n",
       "    <tr>\n",
       "      <th id=\"T_a81ab_level0_row5\" class=\"row_heading level0 row5\" >Util</th>\n",
       "      <td id=\"T_a81ab_row5_col0\" class=\"data row5 col0\" >5.22%</td>\n",
       "    </tr>\n",
       "  </tbody>\n",
       "</table>\n"
      ],
      "text/plain": [
       "<pandas.io.formats.style.Styler at 0x283a8dd60>"
      ]
     },
     "execution_count": 72,
     "metadata": {},
     "output_type": "execute_result"
    }
   ],
   "source": [
    "pd.Series(equal_risk_contributions(cov), index=cov.index).sort_values().to_frame(\"Equal Risk - Weights\").iloc[[0,1,2,-3,-2,-1]].style.format(\"{:.2%}\")"
   ]
  },
  {
   "cell_type": "code",
   "execution_count": 73,
   "metadata": {},
   "outputs": [
    {
     "data": {
      "text/html": [
       "<style type=\"text/css\">\n",
       "</style>\n",
       "<table id=\"T_1a5ce\">\n",
       "  <thead>\n",
       "    <tr>\n",
       "      <th class=\"blank level0\" >&nbsp;</th>\n",
       "      <th id=\"T_1a5ce_level0_col0\" class=\"col_heading level0 col0\" >Equal Risk - Risk Contributions</th>\n",
       "    </tr>\n",
       "  </thead>\n",
       "  <tbody>\n",
       "    <tr>\n",
       "      <th id=\"T_1a5ce_level0_row0\" class=\"row_heading level0 row0\" >Util</th>\n",
       "      <td id=\"T_1a5ce_row0_col0\" class=\"data row0 col0\" >2.02%</td>\n",
       "    </tr>\n",
       "    <tr>\n",
       "      <th id=\"T_1a5ce_level0_row1\" class=\"row_heading level0 row1\" >Steel</th>\n",
       "      <td id=\"T_1a5ce_row1_col0\" class=\"data row1 col0\" >2.03%</td>\n",
       "    </tr>\n",
       "    <tr>\n",
       "      <th id=\"T_1a5ce_level0_row2\" class=\"row_heading level0 row2\" >Ships</th>\n",
       "      <td id=\"T_1a5ce_row2_col0\" class=\"data row2 col0\" >2.03%</td>\n",
       "    </tr>\n",
       "    <tr>\n",
       "      <th id=\"T_1a5ce_level0_row3\" class=\"row_heading level0 row3\" >Other</th>\n",
       "      <td id=\"T_1a5ce_row3_col0\" class=\"data row3 col0\" >2.05%</td>\n",
       "    </tr>\n",
       "    <tr>\n",
       "      <th id=\"T_1a5ce_level0_row4\" class=\"row_heading level0 row4\" >Beer</th>\n",
       "      <td id=\"T_1a5ce_row4_col0\" class=\"data row4 col0\" >2.05%</td>\n",
       "    </tr>\n",
       "    <tr>\n",
       "      <th id=\"T_1a5ce_level0_row5\" class=\"row_heading level0 row5\" >Hshld</th>\n",
       "      <td id=\"T_1a5ce_row5_col0\" class=\"data row5 col0\" >2.05%</td>\n",
       "    </tr>\n",
       "  </tbody>\n",
       "</table>\n"
      ],
      "text/plain": [
       "<pandas.io.formats.style.Styler at 0x2839ecd90>"
      ]
     },
     "execution_count": 73,
     "metadata": {},
     "output_type": "execute_result"
    }
   ],
   "source": [
    "risk_contribution(equal_risk_contributions(cov), cov).sort_values().to_frame(\"Equal Risk - Risk Contributions\").iloc[[0,1,2,-3,-2,-1]].style.format(\"{:.2%}\")"
   ]
  }
 ],
 "metadata": {
  "kernelspec": {
   "display_name": "oai_spo_training",
   "language": "python",
   "name": "python3"
  },
  "language_info": {
   "codemirror_mode": {
    "name": "ipython",
    "version": 3
   },
   "file_extension": ".py",
   "mimetype": "text/x-python",
   "name": "python",
   "nbconvert_exporter": "python",
   "pygments_lexer": "ipython3",
   "version": "3.8.15"
  },
  "orig_nbformat": 4
 },
 "nbformat": 4,
 "nbformat_minor": 2
}
